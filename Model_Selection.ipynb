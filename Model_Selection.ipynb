{
 "cells": [
  {
   "cell_type": "code",
   "execution_count": 1,
   "metadata": {},
   "outputs": [],
   "source": [
    "import pandas as pd\n",
    "import numpy as np\n",
    "import random as rnd\n",
    "import matplotlib.pyplot as plt\n",
    "from sklearn.model_selection import train_test_split\n",
    "from sklearn import linear_model\n",
    "from sklearn import preprocessing\n"
   ]
  },
  {
   "cell_type": "code",
   "execution_count": 3,
   "metadata": {},
   "outputs": [],
   "source": [
    "#Leemos los datos y hacemos la estandarización con standard scaler\n",
    "df = pd.read_csv(\"regLinPoli2.txt\")\n",
    "\n",
    "X_train, X_test, Y_train, Y_test = train_test_split(df.drop('y', axis=1), df[['y']], train_size=0.75, test_size=0.25)\n",
    "X_train, X_test, Y_train, Y_test = np.array(X_train), np.array(X_test), np.array(Y_train), np.array(Y_test)\n",
    "scalerX = preprocessing.StandardScaler().fit(X_train)\n",
    "X_train = scalerX.transform(X_train)\n",
    "X_test = scalerX.transform(X_test)\n",
    "scalerY = preprocessing.StandardScaler().fit(Y_train)\n",
    "Y_train = scalerY.transform(Y_train)\n",
    "Y_test = scalerY.transform(Y_test)"
   ]
  },
  {
   "cell_type": "code",
   "execution_count": 7,
   "metadata": {},
   "outputs": [],
   "source": [
    "#función de entrenamiento\n",
    "def out(w,X):\n",
    "    return X.dot(w[1:]) +w[0]\n",
    "\n",
    "def train(X, y, w, la, eta = 0.01):\n",
    "    for i in range(len(X)):\n",
    "        err = y[i] - out(w, X[i])\n",
    "        w[0] = w[0] + eta * (err)\n",
    "        w[1:] = w[1:] + eta * (err*X[i]) - la * w[1:]\n",
    "    return w"
   ]
  },
  {
   "cell_type": "code",
   "execution_count": 14,
   "metadata": {},
   "outputs": [],
   "source": [
    "#Función del error cuadrático medio\n",
    "def ECM(X, Y, w):\n",
    "    return np.mean((X.dot(w[1:])+ w[0] - Y)**2)"
   ]
  },
  {
   "cell_type": "code",
   "execution_count": 11,
   "metadata": {},
   "outputs": [],
   "source": [
    "#Función para hacer el muestreo de los subconjuntos\n",
    "def sub(X, k):\n",
    "    I = np.random.choice(len(X), len(X), False)\n",
    "    return [I[i] % k for i in range(len(X))]"
   ]
  },
  {
   "cell_type": "code",
   "execution_count": 12,
   "metadata": {},
   "outputs": [],
   "source": [
    "#Generamos la función que hace la validación cruzada\n",
    "def crossvalidate(X_train, Y_train, w, k, la):\n",
    "    S = np.array(sub(X_train, k))\n",
    "    err = []\n",
    "    for j in range(k):\n",
    "        X_tr, Y_tr, X_tst, Y_tst = X_train[S != j], Y_train[S != j], X_train[S == j], Y_train[S == j]\n",
    "        w = train(X_tr, Y_tr, w, la)\n",
    "        err = np.append(err, ECM(X_tst, Y_tst.flatten(), w))\n",
    "    err_prom = np.mean(err)\n",
    "    return w, err_prom"
   ]
  },
  {
   "cell_type": "code",
   "execution_count": 21,
   "metadata": {},
   "outputs": [],
   "source": [
    "#Probamos la función con los datos\n",
    "la = np.linspace(0.0, 1.0, 100)\n",
    "err_prom = []\n",
    "for i in range(len(la)):\n",
    "    w = np.asarray([rnd.random() for j in range(len(X_train[0]) + 1)])\n",
    "    w, err = crossvalidate(X_train, Y_train, w, 10, la[i])\n",
    "    err_prom = np.append(err_prom, err)"
   ]
  },
  {
   "cell_type": "code",
   "execution_count": 22,
   "metadata": {},
   "outputs": [
    {
     "data": {
      "text/plain": [
       "array([ 0.62352727,  0.68854595,  0.76691961,  0.79430774,  0.81932745,\n",
       "        0.84323049,  0.86155898,  0.87304987,  0.88185773,  0.89929591,\n",
       "        0.92043185,  0.91730946,  0.93255417,  0.94186561,  0.93961887,\n",
       "        0.94593712,  0.94668908,  0.95353013,  0.95700139,  0.95579167,\n",
       "        0.96304433,  0.95552404,  0.96082647,  0.95516336,  0.9718986 ,\n",
       "        0.9756414 ,  0.96887421,  0.96907428,  0.97616818,  0.976967  ,\n",
       "        0.98363475,  0.99056024,  0.98087057,  0.98235628,  0.9973279 ,\n",
       "        0.98921509,  0.99200549,  0.99049699,  0.99023562,  0.99275084,\n",
       "        0.99123217,  0.99180761,  0.99273591,  0.99116323,  0.99538699,\n",
       "        0.99744534,  0.99799681,  0.99891066,  1.0015915 ,  1.00242727,\n",
       "        1.00143918,  1.00024997,  1.00343596,  1.00171964,  1.00459998,\n",
       "        1.00852569,  1.00875882,  1.00694669,  1.00594761,  1.00494368,\n",
       "        1.00882585,  1.00988265,  1.00426831,  1.01708198,  1.00866076,\n",
       "        1.0062238 ,  1.00770228,  1.01170402,  1.01092018,  1.01085771,\n",
       "        1.00930804,  1.01230745,  1.01388419,  1.01681554,  1.00783865,\n",
       "        1.01648933,  1.01256702,  1.01330773,  1.01489985,  1.00774154,\n",
       "        1.01334423,  1.01358378,  1.01195679,  1.0203393 ,  1.01243608,\n",
       "        1.01617218,  1.01270623,  1.01562542,  1.01351676,  1.01120343,\n",
       "        1.01487745,  1.01095909,  1.01474314,  1.01584328,  1.01411871,\n",
       "        1.01676529,  1.02211478,  1.01243198,  1.01944518,  1.0127752 ])"
      ]
     },
     "execution_count": 22,
     "metadata": {},
     "output_type": "execute_result"
    }
   ],
   "source": [
    "err_prom"
   ]
  },
  {
   "cell_type": "code",
   "execution_count": 23,
   "metadata": {},
   "outputs": [
    {
     "name": "stdout",
     "output_type": "stream",
     "text": [
      "0.0 0.623527265579\n"
     ]
    },
    {
     "data": {
      "image/png": "[encoded data removed]",
      "text/plain": [
       "<matplotlib.figure.Figure at 0x7fac45e17bd0>"
      ]
     },
     "metadata": {},
     "output_type": "display_data"
    }
   ],
   "source": [
    "err_min = np.amin(err_prom)\n",
    "la_min = np.argmin(err_prom)\n",
    "print la[la_min], err_min\n",
    "\n",
    "plt.plot(la, err_prom)\n",
    "plt.scatter(la[la_min], err_min, c='r')\n",
    "plt.show()"
   ]
  },
  {
   "cell_type": "code",
   "execution_count": 26,
   "metadata": {},
   "outputs": [
    {
     "name": "stdout",
     "output_type": "stream",
     "text": [
      "0.569506017202\n",
      "0.561363555439\n"
     ]
    }
   ],
   "source": [
    "#Usamos la lambda óptima para entrenar\n",
    "w = np.asarray([rnd.random() for i in range(len(X_train[0]) + 1)])\n",
    "for i in range(len(X_train)):\n",
    "    w = train(X_train, Y_train, w, la[la_min])\n",
    "\n",
    "    \n",
    "print ECM(X_train, Y_train.flatten(), w)\n",
    "print ECM(X_test, Y_test.flatten(), w)"
   ]
  },
  {
   "cell_type": "code",
   "execution_count": null,
   "metadata": {},
   "outputs": [],
   "source": []
  }
 ],
 "metadata": {
  "kernelspec": {
   "display_name": "Python 3",
   "language": "python",
   "name": "python3"
  },
  "language_info": {
   "codemirror_mode": {
    "name": "ipython",
    "version": 2
   },
   "file_extension": ".py",
   "mimetype": "text/x-python",
   "name": "python",
   "nbconvert_exporter": "python",
   "pygments_lexer": "ipython2",
   "version": "2.7.12"
  }
 },
 "nbformat": 4,
 "nbformat_minor": 2
}
